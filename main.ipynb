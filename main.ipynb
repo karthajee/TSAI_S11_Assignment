{
 "cells": [
  {
   "cell_type": "code",
   "execution_count": 4,
   "id": "3bf15e2f-0337-4fed-bc15-1ace4920877c",
   "metadata": {},
   "outputs": [],
   "source": [
    "import utils\n",
    "import model"
   ]
  },
  {
   "cell_type": "code",
   "execution_count": 6,
   "id": "dc5d8595-3c93-481e-b9f0-1490026e16c8",
   "metadata": {},
   "outputs": [],
   "source": [
    "dev = utils.get_device()"
   ]
  },
  {
   "cell_type": "markdown",
   "id": "9952949c-4a46-4adc-8233-a17489c1735b",
   "metadata": {},
   "source": [
    "# TODO\n",
    "\n",
    "1. Implement the Dataset and the Dataloaders\n",
    "2. Load the dataset and display a few images\n",
    "3. Define the model architecture\n",
    "4. Define the train and test loops\n",
    "5. Train the model and test - Display loss curves\n",
    "6. Find misclassified images\n",
    "7. Use GradCAM to make the misclassified images interpretable"
   ]
  },
  {
   "cell_type": "code",
   "execution_count": 8,
   "id": "143be704-04d2-41ce-826e-82d13b7bafa4",
   "metadata": {},
   "outputs": [],
   "source": [
    "from torchvision import datasets"
   ]
  },
  {
   "cell_type": "code",
   "execution_count": 9,
   "id": "d7b1bfe9-3b1b-4c0c-82ae-86169cffc13d",
   "metadata": {},
   "outputs": [],
   "source": [
    "class Cifar10Dataset(datasets.CIFAR10):\n",
    "    \n",
    "    def __init__(self, root='./data', train=True, download=True, transform=None):\n",
    "        super(Cifar10Dataset, self).__init__(root=root, train=train, \n",
    "                                             download=download, transform=transform)\n",
    "    \n",
    "    def __getitem__(self, index):\n",
    "        if self.transform=None\n",
    "        \n",
    "    def __len__(self):\n",
    "        ..."
   ]
  },
  {
   "cell_type": "code",
   "execution_count": 10,
   "id": "f287e934-2c6c-4ad3-9879-c8132d7b12b6",
   "metadata": {},
   "outputs": [
    {
     "name": "stdout",
     "output_type": "stream",
     "text": [
      "Downloading https://www.cs.toronto.edu/~kriz/cifar-10-python.tar.gz to ./data/cifar-10-python.tar.gz\n"
     ]
    },
    {
     "name": "stderr",
     "output_type": "stream",
     "text": [
      "100%|██████████| 170498071/170498071 [00:02<00:00, 68195287.21it/s]\n"
     ]
    },
    {
     "name": "stdout",
     "output_type": "stream",
     "text": [
      "Extracting ./data/cifar-10-python.tar.gz to ./data\n"
     ]
    }
   ],
   "source": [
    "a = Cifar10Dataset()"
   ]
  },
  {
   "cell_type": "code",
   "execution_count": null,
   "id": "02481613-19e9-4ecb-afaa-d5e9ea82a07b",
   "metadata": {
    "tags": []
   },
   "outputs": [],
   "source": [
    "import albumentations as A\n",
    "from A.pytorch import ToTensorV2\n",
    "\n",
    "train_transforms = A.Compose([ToTensorV2(), \n",
    "                             A.RandomResizedCrop(height=32, \n",
    "                                                 width=32, \n",
    "                                                 scale=(0.8, 1.0)),\n",
    "                             A.CutOut(num_holes=1, \n",
    "                                      max_h_size=16, \n",
    "                                      max_w_size=16, \n",
    "                                      fill_value=0.5),\n",
    "                             A.Normalize(mean=(0.5, 0.5, 0.5), \n",
    "                                         std=(0.5, 0.5, 0.5), \n",
    "                                         max_pixel_value=1.0)])\n",
    "test_transforms = A.Compose([ToTensorV2(), \n",
    "                             A.Normalize(mean=(0.5, 0.5, 0.5), \n",
    "                                         std=(0.5, 0.5, 0.5), \n",
    "                                         max_pixel_value=1.0)])"
   ]
  },
  {
   "cell_type": "code",
   "execution_count": null,
   "id": "e485e933-ded5-482b-a330-a6d8ccbd2007",
   "metadata": {},
   "outputs": [],
   "source": []
  }
 ],
 "metadata": {
  "kernelspec": {
   "display_name": "Python 3.8 - Pytorch and Tensorflow",
   "language": "python",
   "name": "python38-azureml-pt-tf"
  },
  "language_info": {
   "codemirror_mode": {
    "name": "ipython",
    "version": 3
   },
   "file_extension": ".py",
   "mimetype": "text/x-python",
   "name": "python",
   "nbconvert_exporter": "python",
   "pygments_lexer": "ipython3",
   "version": "3.8.5"
  }
 },
 "nbformat": 4,
 "nbformat_minor": 5
}
